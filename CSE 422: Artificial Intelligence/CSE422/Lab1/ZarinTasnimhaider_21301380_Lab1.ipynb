{
  "nbformat": 4,
  "nbformat_minor": 0,
  "metadata": {
    "colab": {
      "provenance": []
    },
    "kernelspec": {
      "name": "python3",
      "display_name": "Python 3"
    },
    "language_info": {
      "name": "python"
    }
  },
  "cells": [
    {
      "cell_type": "code",
      "execution_count": null,
      "metadata": {
        "colab": {
          "base_uri": "https://localhost:8080/"
        },
        "id": "idywXl6-govQ",
        "outputId": "161cf3bf-3202-4d6e-ef49-f93190ad3ac7"
      },
      "outputs": [
        {
          "output_type": "stream",
          "name": "stdout",
          "text": [
            "Path: Arad -> Sibiu -> RimnicuVilcea -> Pitesti -> Bucharest\n",
            "Total distance: 418 km\n"
          ]
        }
      ],
      "source": [
        "import heapq\n",
        "\n",
        "\n",
        "m= {}\n",
        "n= {}\n",
        "destin= 'Bucharest'\n",
        "start= 'Arad'\n",
        "\n",
        "\n",
        "f = open(\"input_file.txt\",\"r\")\n",
        "for i in f:\n",
        "  temp = i.split()\n",
        "  source = temp[0]\n",
        "  destination_info=[]\n",
        "  m[source]=int(temp[1])\n",
        "  if int(temp[1])==0:\n",
        "    dest=temp[0]\n",
        "  else:\n",
        "    for j in range(2,len(temp),2):\n",
        "      destination_info.append((temp[j],int(temp[j + 1])))\n",
        "    n[source]= destination_info\n",
        "\n",
        "\n",
        "\n",
        "\n",
        "\n",
        "parent= {}\n",
        "visited= {}\n",
        "\n",
        "q=[]\n",
        "heapq.heappush(q, (m[start], start))\n",
        "visited[start]=0\n",
        "parent[start]=None\n",
        "\n",
        "\n",
        "\n",
        "while q:\n",
        "    q= sorted(q, key=lambda x: x[0])\n",
        "    current=q.pop(0)\n",
        "    current_cost,current_node=current\n",
        "\n",
        "\n",
        "    if current_node==dest:\n",
        "        path= []\n",
        "        total_distance=visited[current_node]\n",
        "        while current_node:\n",
        "            path.append(current_node)\n",
        "            current_node=parent[current_node]\n",
        "        path.reverse()\n",
        "        print(\"Path:\", ' -> '.join(path))\n",
        "        print(f\"Total distance: {total_distance} km\")\n",
        "        break\n",
        "\n",
        "\n",
        "    for neighbor, cost in n[current_node]:\n",
        "        #print(\"a\",neighbor,cost)\n",
        "        new_cost= visited[current_node]+cost\n",
        "        #print(\"cost\",new_cost)\n",
        "        if neighbor not in visited or new_cost<visited[neighbor]:\n",
        "            visited[neighbor]=new_cost\n",
        "            priority= new_cost+m[neighbor]\n",
        "            heapq.heappush(q,(priority, neighbor))\n",
        "            parent[neighbor]=current_node\n",
        "\n",
        "\n",
        "\n",
        "else:\n",
        "    print(\"NO PATH FOUND\")\n"
      ]
    },
    {
      "cell_type": "code",
      "source": [],
      "metadata": {
        "id": "AglgdkTTppru"
      },
      "execution_count": null,
      "outputs": []
    },
    {
      "cell_type": "code",
      "source": [],
      "metadata": {
        "id": "4xDfVG9jnHHU"
      },
      "execution_count": null,
      "outputs": []
    }
  ]
}