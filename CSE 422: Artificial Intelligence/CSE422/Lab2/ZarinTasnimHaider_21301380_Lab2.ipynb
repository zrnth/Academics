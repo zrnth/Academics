{
  "nbformat": 4,
  "nbformat_minor": 0,
  "metadata": {
    "colab": {
      "provenance": []
    },
    "kernelspec": {
      "name": "python3",
      "display_name": "Python 3"
    },
    "language_info": {
      "name": "python"
    }
  },
  "cells": [
    {
      "cell_type": "code",
      "execution_count": 2,
      "metadata": {
        "colab": {
          "base_uri": "https://localhost:8080/"
        },
        "id": "M8qC-K5gj7-B",
        "outputId": "0d62b35c-0e66-457c-95f9-50524d33f2e2"
      },
      "outputs": [
        {
          "output_type": "stream",
          "name": "stdout",
          "text": [
            "['Bradman', 'Tendulkar', 'Sangakkara', 'Kallis', 'Lara']\n",
            "01101\n"
          ]
        }
      ],
      "source": [
        "import random\n",
        "\n",
        "with open(\"input_lab2.txt\", \"r\") as f:  # input file colab a\n",
        "    p, t = map(int, f.readline().strip().split()). #population r expected fitness\n",
        "    s, pl = {}, []   #score\n",
        "\n",
        "\n",
        "    for _ in range(p):\n",
        "        n, r = f.readline().strip().split()\n",
        "        s[n] = int(r)\n",
        "        pl.append(n)  #player name list a add hocche\n",
        "\n",
        "\n",
        "def c(p_list):     #playerlist\n",
        "    s_p, sel = [], []\n",
        "\n",
        "\n",
        "\n",
        "    for _ in range(p):\n",
        "        n = random.choice(p_list)  #randomly player nicchi\n",
        "        s_p.append(n)\n",
        "\n",
        "\n",
        "\n",
        "    for i in range(p):\n",
        "        sel.append(1 if p_list[i] in s_p else 0)  #plyr select hole 1, otherwise 0\n",
        "\n",
        "    return sel\n",
        "\n",
        "\n",
        "\n",
        "def fit(sel):\n",
        "    return sum(s[pl[i]] for i in range(p) if sel[i] == 1)\n",
        "\n",
        "\n",
        "\n",
        "def cross(parents):\n",
        "    children = []  #empty list a store kortese\n",
        "\n",
        "\n",
        "\n",
        "    for i in range(0, 4, 2):\n",
        "        c_idx = random.randint(0, p-1)\n",
        "        c_1 = parents[i][:c_idx] + parents[i+1][c_idx:]\n",
        "        c_2 = parents[i+1][:c_idx] + parents[i][c_idx:]\n",
        "        c_1, c_2 = mut(c_1, c_2)\n",
        "\n",
        "        children.append(c_1)  #list a children adding\n",
        "        children.append(c_2)\n",
        "\n",
        "\n",
        "\n",
        "    return children\n",
        "\n",
        "\n",
        "\n",
        "\n",
        "def mut(c_1, c_2):\n",
        "    c_1[random.randint(0, p-1)] = random.randint(0, 1)\n",
        "    c_2[random.randint(0, p-1)] = random.randint(0, 1)\n",
        "\n",
        "    return c_1, c_2\n",
        "\n",
        "\n",
        "\n",
        "def r_c(p_list):\n",
        "    def note(lst):\n",
        "        return ''.join(map(str, lst))\n",
        "\n",
        "    parents_list = [c(p_list) for _ in range(4)]\n",
        "\n",
        "\n",
        "    for _ in range(1000):  #run loop for 1000\n",
        "        for parent in parents_list:\n",
        "            if fit(parent) == t:  #parents fitness check\n",
        "                return f'{pl}\\n{note(parent)}'\n",
        "        else:\n",
        "            parents_list = cross(parents_list)  #target not reached, crossover for new children\n",
        "\n",
        "\n",
        "    return f'{pl}\\n-1'\n",
        "\n",
        "print(r_c(pl))\n"
      ]
    }
  ]
}